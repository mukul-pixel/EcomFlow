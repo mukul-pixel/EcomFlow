{
	"metadata": {
		"kernelspec": {
			"name": "glue_pyspark",
			"display_name": "Glue PySpark",
			"language": "python"
		},
		"language_info": {
			"name": "Python_Glue_Session",
			"mimetype": "text/x-python",
			"codemirror_mode": {
				"name": "python",
				"version": 3
			},
			"pygments_lexer": "python3",
			"file_extension": ".py"
		}
	},
	"nbformat_minor": 4,
	"nbformat": 4,
	"cells": [
		{
			"cell_type": "code",
			"source": "%%configure \n{\n    \"--job-bookmark-option\":\"job-bookmark-enable\"\n}",
			"metadata": {
				"trusted": true,
				"tags": []
			},
			"execution_count": 4,
			"outputs": [
				{
					"name": "stderr",
					"text": "You are already connected to a glueetl session c9e15291-012a-4425-b5a4-9b86901128f3.\n\nNo change will be made to the current session that is set as glueetl. The session configuration change will apply to newly created sessions.\n",
					"output_type": "stream"
				},
				{
					"name": "stdout",
					"text": "The following configurations have been updated: {'--job-bookmark-option': 'job-bookmark-enable'}\n",
					"output_type": "stream"
				}
			]
		},
		{
			"cell_type": "code",
			"source": "import sys\nfrom pyspark.context import SparkContext\nfrom awsglue.context import GlueContext\nfrom awsglue.job import Job\nfrom pyspark.sql.functions import current_date, current_timestamp, lit, col, concat_ws, sha2, year, month\nfrom pyspark.sql.types import TimestampType\nfrom awsglue.dynamicframe import DynamicFrame\nfrom awsglue.utils import getResolvedOptions\n\nsc = SparkContext.getOrCreate()\nglueContext = GlueContext(sc)\nglueContext.spark_session\njob = Job(glueContext)\nargs = getResolvedOptions(sys.argv, ['JOB_NAME'])\njob.init(args['JOB_NAME'], args)\n\n# declaring the bucket_variables\nbucket_name = \"data-engineering-project-920372994009\"\nsource_folder = \"bronze_data\"\nprocessed_folder = \"silver_data\"\ndb_name = \"dev\"\ntable_name = \"Orders\"\n\n# declaring the glue_variables\nglue_db = \"data-engineering-project-glue-db\"\nglue_table_name = \"raw_data_orders\"\n\n# reading the data from glue catalog\norders_df_from_catalog = glueContext.create_data_frame_from_catalog(glue_db,glue_table_name,\\\n                                                                    additional_options = {\"useCatalogSchema\":True,\"useSparkDataSource\":True,\"header\":True},\\\n                                                                    transformation_ctx = \"orders_df_from_catalog\")\nif orders_df_from_catalog.count() > 0:\n    renamed_orders_df = orders_df_from_catalog.withColumnRenamed(\"orderid\",\"order_id\")\\\n                                              .withColumnRenamed(\"ordercustomerid\",\"order_customer_id\")\\\n                                              .withColumnRenamed(\"orderdate\",\"order_date\")\\\n                                              .withColumnRenamed(\"paymentmethod\",\"payment_method\")\\\n                                              .withColumnRenamed(\"orderplatform\",\"order_platform\")\\\n                                              .drop(\"op\")\n    # declaring variables for SCD - 2\n#     current_date = current_date()\n#     current_timestamp = current_timestamp()\n#     record_end_ts = lit('9999-12-31').cast(TimestampType())\n#     active_flag = lit(1)\n    \n#     hash_value = concat_ws('',col(\"order_cust_id\"),col(\"order_date\"),col(\"payment_method\"),col(\"order_platform\"))\n    \n    final_orders_df = renamed_orders_df.withColumn(\"order_year\", year(col(\"order_date\")))\\\n                                       .withColumn(\"order_year_pk\", year(col(\"order_date\")))\\\n                                       .withColumn(\"order_month\", month(col(\"order_date\")))\\\n                                       .withColumn(\"ingestion_date\", current_date())\\\n                                       .orderBy(col(\"order_date\").desc())\n    \n    # creating dynamic_framic of the final_df\n    final_orders_dyf = DynamicFrame.fromDF(final_orders_df, glueContext, \"final_orders_dyf\")\n    \n    # writing data to S3 as parquet\n    glueContext.write_dynamic_frame.from_options(\n        frame = final_orders_dyf,\n        connection_type = \"s3\",\n        connection_options = {\"path\": f\"s3://{bucket_name}/{processed_folder}/{db_name}/{table_name}/\", \"partitionKeys\":[\"order_year_pk\"]},\n        format = \"parquet\",\n        transformation_ctx = \"orders_dyf_to_s3\"\n    )\nelse:\n    print(f\"Cannot get the data from glue catalog\")\n\njob.commit()",
			"metadata": {
				"trusted": true,
				"tags": []
			},
			"execution_count": 3,
			"outputs": [
				{
					"name": "stdout",
					"text": "{\"order_id\": \"5f7af246-e314-4573-a13e-80a14e2726da\", \"order_customer_id\": \"f2a52f68-32fd-4e87-8048-427449889692\", \"order_date\": \"2024-12-29\", \"payment_method\": \"Credit Card\", \"order_platform\": \"Website\", \"order_year\": 2024, \"order_year_pk\": 2024, \"order_month\": 12, \"ingestion_date\": 2025-03-31}\n{\"order_id\": \"12b01566-cf79-4f53-b978-112c33aa4269\", \"order_customer_id\": \"f2a52f68-32fd-4e87-8048-427449889692\", \"order_date\": \"2024-11-16\", \"payment_method\": \"Credit Card\", \"order_platform\": \"Mobile\", \"order_year\": 2024, \"order_year_pk\": 2024, \"order_month\": 11, \"ingestion_date\": 2025-03-31}\n{\"order_id\": \"13272821-905f-42e1-9b67-1d919d5eb8c2\", \"order_customer_id\": \"4a4edf67-aef9-4fc5-84d2-244859de1099\", \"order_date\": \"2024-09-28\", \"payment_method\": \"Credit Card\", \"order_platform\": \"Website\", \"order_year\": 2024, \"order_year_pk\": 2024, \"order_month\": 9, \"ingestion_date\": 2025-03-31}\n{\"order_id\": \"35da5dbe-9a46-495b-b10f-81e7c2d61e25\", \"order_customer_id\": \"f2422541-c9bd-450c-9f70-999e6dba568e\", \"order_date\": \"2024-08-21\", \"payment_method\": \"Credit Card\", \"order_platform\": \"Website\", \"order_year\": 2024, \"order_year_pk\": 2024, \"order_month\": 8, \"ingestion_date\": 2025-03-31}\n{\"order_id\": \"fb4173e0-4ea3-4197-ac4e-f2757aec07b2\", \"order_customer_id\": \"f2422541-c9bd-450c-9f70-999e6dba568e\", \"order_date\": \"2024-07-22\", \"payment_method\": \"PayPal\", \"order_platform\": \"In-store\", \"order_year\": 2024, \"order_year_pk\": 2024, \"order_month\": 7, \"ingestion_date\": 2025-03-31}\n{\"order_id\": \"f81ebc5d-a206-4d70-b1db-c153a1ad20a7\", \"order_customer_id\": \"f2a52f68-32fd-4e87-8048-427449889692\", \"order_date\": \"2024-07-04\", \"payment_method\": \"Bank Transfer\", \"order_platform\": \"Website\", \"order_year\": 2024, \"order_year_pk\": 2024, \"order_month\": 7, \"ingestion_date\": 2025-03-31}\n{\"order_id\": \"bf6f3980-d771-4058-9a09-0857890d6499\", \"order_customer_id\": \"f2422541-c9bd-450c-9f70-999e6dba568e\", \"order_date\": \"2024-05-18\", \"payment_method\": \"Credit Card\", \"order_platform\": \"Website\", \"order_year\": 2024, \"order_year_pk\": 2024, \"order_month\": 5, \"ingestion_date\": 2025-03-31}\n{\"order_id\": \"e87049d0-780b-485e-b235-deddb70505c6\", \"order_customer_id\": \"4a4edf67-aef9-4fc5-84d2-244859de1099\", \"order_date\": \"2024-02-07\", \"payment_method\": \"Credit Card\", \"order_platform\": \"Mobile\", \"order_year\": 2024, \"order_year_pk\": 2024, \"order_month\": 2, \"ingestion_date\": 2025-03-31}\n{\"order_id\": \"e1731b4d-ace7-4fc3-b9d7-eec732dea2e8\", \"order_customer_id\": \"f2a52f68-32fd-4e87-8048-427449889692\", \"order_date\": \"2024-01-05\", \"payment_method\": \"Credit Card\", \"order_platform\": \"Mobile\", \"order_year\": 2024, \"order_year_pk\": 2024, \"order_month\": 1, \"ingestion_date\": 2025-03-31}\n",
					"output_type": "stream"
				}
			]
		},
		{
			"cell_type": "code",
			"source": "",
			"metadata": {},
			"execution_count": null,
			"outputs": []
		}
	]
}